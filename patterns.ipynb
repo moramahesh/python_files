{
 "cells": [
  {
   "cell_type": "code",
   "execution_count": null,
   "metadata": {},
   "outputs": [],
   "source": [
    "n=5\n",
    "for i in range(1,n+1):\n",
    "    for j in range(1,i+1):\n",
    "        print(i*j,end=\"\")\n",
    "    print()"
   ]
  },
  {
   "cell_type": "code",
   "execution_count": null,
   "metadata": {},
   "outputs": [],
   "source": [
    "n = 5\n",
    "d = 1\n",
    "e = n\n",
    "for x in range(n, 0, -1):\n",
    "    t1 = d\n",
    "    t2 = e\n",
    "    r1 = x\n",
    "    r2 = x + 1\n",
    "    for y in range(n, x - 1, -1):\n",
    "        if (x + y) % 2 == 1:\n",
    "            print(\"{} \".format(t1), end=\"\")\n",
    "        else:\n",
    "            print(\"{} \".format(t2), end=\"\")\n",
    "        t1 = t1 - r1\n",
    "        t2 = t2 - r2\n",
    "        r1 = r1 + 1\n",
    "        r2 = r2 + 1\n",
    "    e = e + x - 1\n",
    "    d = d + x\n",
    "    print()"
   ]
  },
  {
   "cell_type": "code",
   "execution_count": 19,
   "metadata": {},
   "outputs": [
    {
     "name": "stdout",
     "output_type": "stream",
     "text": [
      "    1 \n",
      "   1 2 \n",
      "  1 2 3 \n",
      " 1 2 3 4 \n",
      "1 2 3 4 5 \n"
     ]
    }
   ],
   "source": [
    "for i in range(1,6):\n",
    "    for j in range(5,i,-1):\n",
    "        print(\" \",end=\"\")\n",
    "    for z in range(1,i+1):\n",
    "        print(z,end=\" \")\n",
    "    print()"
   ]
  },
  {
   "cell_type": "code",
   "execution_count": 18,
   "metadata": {},
   "outputs": [
    {
     "name": "stdout",
     "output_type": "stream",
     "text": [
      "    5 \n",
      "   4 4 \n",
      "  3 3 3 \n",
      " 2 2 2 2 \n",
      "1 1 1 1 1 \n"
     ]
    }
   ],
   "source": [
    "n = 5\n",
    "for i in range(1,6):\n",
    "    for j in range(5,i,-1):\n",
    "        print(\" \",end=\"\")\n",
    "    for z in range(1,i+1):\n",
    "        print(n,end=\" \")\n",
    "    n-=1\n",
    "    print()"
   ]
  },
  {
   "cell_type": "code",
   "execution_count": 26,
   "metadata": {},
   "outputs": [
    {
     "name": "stdout",
     "output_type": "stream",
     "text": [
      "    1 \n",
      "   2 1 \n",
      "  3 2 1 \n",
      " 4 3 2 1 \n",
      "5 4 3 2 1 \n"
     ]
    }
   ],
   "source": [
    "n=5\n",
    "for i in range(1,6):\n",
    "    for j in range(5,i,-1):\n",
    "        print(\" \",end=\"\")\n",
    "    for z in range(1,i+1):\n",
    "        print(i,end=\" \")\n",
    "        i-=1\n",
    "    print()"
   ]
  },
  {
   "cell_type": "code",
   "execution_count": 8,
   "metadata": {},
   "outputs": [
    {
     "name": "stdout",
     "output_type": "stream",
     "text": [
      "3 3 3 3 3 \n",
      "3 2 2 2 3 \n",
      "3 2 1 2 3 \n",
      "3 2 2 2 3 \n",
      "3 3 3 3 3 \n"
     ]
    }
   ],
   "source": [
    "n = 3\n",
    "for i in range(1-n,n):\n",
    "    for j in range(1-n,n):\n",
    "        #print(i,end=\"\")\n",
    "        if abs(i)>abs(j):\n",
    "            print(abs(i)+1,end=\" \")\n",
    "        else:\n",
    "            print(abs(j)+1,end=\" \")\n",
    "    print()"
   ]
  }
 ],
 "metadata": {
  "kernelspec": {
   "display_name": "Python 3",
   "language": "python",
   "name": "python3"
  },
  "language_info": {
   "codemirror_mode": {
    "name": "ipython",
    "version": 3
   },
   "file_extension": ".py",
   "mimetype": "text/x-python",
   "name": "python",
   "nbconvert_exporter": "python",
   "pygments_lexer": "ipython3",
   "version": "3.11.9"
  }
 },
 "nbformat": 4,
 "nbformat_minor": 2
}
